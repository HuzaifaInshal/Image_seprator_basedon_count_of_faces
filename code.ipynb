{
 "cells": [
  {
   "cell_type": "code",
   "execution_count": 1,
   "id": "a61a9ee1",
   "metadata": {},
   "outputs": [],
   "source": [
    "import cv2\n",
    "import sys\n",
    "import os\n",
    "import shutil"
   ]
  },
  {
   "cell_type": "code",
   "execution_count": 8,
   "id": "7ad60622",
   "metadata": {},
   "outputs": [],
   "source": [
    "#specify your path here\n",
    "imgpath =\"C:\\\\Users\\\\Huzaifa\\\\Desktop\\\\Group and Solos Seprator\\\\dataset\""
   ]
  },
  {
   "cell_type": "code",
   "execution_count": null,
   "id": "6c9cd766",
   "metadata": {},
   "outputs": [],
   "source": [
    "\n",
    "imgpath2 = (os.path.split(imgpath))[0]\n",
    "count=0\n",
    "total=len(os.listdir(imgpath))\n",
    "print('PROCESS HAS BEEN STARTED!')\n",
    "print('\\nTotal files found are:',total,'\\n\\n\\n')\n",
    "no_face=imgpath2+'\\\\'+'no_face'\n",
    "os.mkdir(no_face)\n",
    "group_photos=imgpath2+'\\\\'+'group_photos'\n",
    "os.mkdir(group_photos)\n",
    "solos=imgpath2+'\\\\'+'solos'\n",
    "os.mkdir(solos)\n",
    "for i in os.listdir(imgpath):\n",
    "    count+=1\n",
    "    print('++ Checking for PICTURE-NUMBER-'+str(count))\n",
    "    imagePath = imgpath+'\\\\'+i\n",
    "    image = cv2.imread(imagePath)\n",
    "    gray = cv2.cvtColor(image, cv2.COLOR_BGR2GRAY)\n",
    "    faceCascade = cv2.CascadeClassifier(cv2.data.haarcascades + \"haarcascade_frontalface_default.xml\")\n",
    "    faces = faceCascade.detectMultiScale(\n",
    "        gray,\n",
    "        scaleFactor=1.3,\n",
    "        minNeighbors=3,\n",
    "        minSize=(30, 30)\n",
    "    )\n",
    "    if len(faces)==0:\n",
    "        shutil.copyfile(imagePath,no_face+'\\\\'+i)\n",
    "        new=no_face+'\\\\'+'squared'\n",
    "        new2=no_face+'\\\\'+'seprated'\n",
    "    if len(faces)==1:\n",
    "        shutil.copyfile(imagePath,solos+'\\\\'+i)\n",
    "        new=solos+'\\\\'+'squared'\n",
    "        new2=solos+'\\\\'+'seprated'\n",
    "    if len(faces)>1:\n",
    "        shutil.copyfile(imagePath,group_photos+'\\\\'+i)\n",
    "        new=group_photos+'\\\\'+'squared'\n",
    "        new2=group_photos+'\\\\'+'seprated'\n",
    "    print(\"\\t-- Found {0} Faces.\".format(len(faces)))\n",
    "\n",
    "    for (x, y, w, h) in faces:\n",
    "        try:\n",
    "            os.mkdir(new)\n",
    "            cv2.rectangle(image, (x, y), (x + w, y + h), (0, 255, 0), 2)\n",
    "            roi_color = image[y:y + h, x:x + w]\n",
    "            #print(\"[INFO] Object found. Saving locally.\")\n",
    "            cv2.imwrite(new+'\\\\'+str(w) + str(h) + '_faces_'+str(count)+'.jpg', roi_color)\n",
    "        except:\n",
    "            cv2.rectangle(image, (x, y), (x + w, y + h), (0, 255, 0), 2)\n",
    "            roi_color = image[y:y + h, x:x + w]\n",
    "            #print(\"[INFO] Object found. Saving locally.\")\n",
    "            cv2.imwrite(new+'\\\\'+str(w) + str(h) + '_faces_'+str(count)+'.jpg', roi_color)\n",
    "    try:\n",
    "        os.mkdir(new2)\n",
    "        status = cv2.imwrite(new2+'\\\\'+'faces_detected'+str(count)+'.jpg', image)\n",
    "    except:\n",
    "        status = cv2.imwrite(new2+'\\\\'+'faces_detected'+str(count)+'.jpg', image)\n",
    "        \n",
    "print('PROCESS HAS BEEN FINISHED!!')"
   ]
  },
  {
   "cell_type": "code",
   "execution_count": null,
   "id": "cfb53d61",
   "metadata": {},
   "outputs": [],
   "source": []
  }
 ],
 "metadata": {
  "kernelspec": {
   "display_name": "Python 3 (ipykernel)",
   "language": "python",
   "name": "python3"
  },
  "language_info": {
   "codemirror_mode": {
    "name": "ipython",
    "version": 3
   },
   "file_extension": ".py",
   "mimetype": "text/x-python",
   "name": "python",
   "nbconvert_exporter": "python",
   "pygments_lexer": "ipython3",
   "version": "3.10.6"
  }
 },
 "nbformat": 4,
 "nbformat_minor": 5
}
